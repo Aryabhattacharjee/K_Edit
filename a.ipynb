{
 "cells": [
  {
   "cell_type": "code",
   "execution_count": 2,
   "metadata": {},
   "outputs": [
    {
     "name": "stderr",
     "output_type": "stream",
     "text": [
      "c:\\Users\\Administrator\\AppData\\Local\\Programs\\Python\\Python310\\lib\\site-packages\\huggingface_hub\\file_download.py:1142: FutureWarning: `resume_download` is deprecated and will be removed in version 1.0.0. Downloads always resume when possible. If you want to force a new download, use `force_download=True`.\n",
      "  warnings.warn(\n"
     ]
    }
   ],
   "source": [
    "from transformers import AutoTokenizer\n",
    "tokenizer = AutoTokenizer.from_pretrained(\"openai-community/gpt2\")"
   ]
  },
  {
   "cell_type": "code",
   "execution_count": 3,
   "metadata": {},
   "outputs": [
    {
     "data": {
      "text/plain": [
       "('D:\\\\my_python\\\\safeedit\\\\EasyEdit\\\\safety_results\\\\dinm_llama2-chat\\\\tokenizer_config.json',\n",
       " 'D:\\\\my_python\\\\safeedit\\\\EasyEdit\\\\safety_results\\\\dinm_llama2-chat\\\\special_tokens_map.json',\n",
       " 'D:\\\\my_python\\\\safeedit\\\\EasyEdit\\\\safety_results\\\\dinm_llama2-chat\\\\vocab.json',\n",
       " 'D:\\\\my_python\\\\safeedit\\\\EasyEdit\\\\safety_results\\\\dinm_llama2-chat\\\\merges.txt',\n",
       " 'D:\\\\my_python\\\\safeedit\\\\EasyEdit\\\\safety_results\\\\dinm_llama2-chat\\\\added_tokens.json',\n",
       " 'D:\\\\my_python\\\\safeedit\\\\EasyEdit\\\\safety_results\\\\dinm_llama2-chat\\\\tokenizer.json')"
      ]
     },
     "execution_count": 3,
     "metadata": {},
     "output_type": "execute_result"
    }
   ],
   "source": [
    "tokenizer.save_pretrained(\"D:\\my_python\\safeedit\\EasyEdit\\safety_results\\dinm_llama2-chat\")"
   ]
  },
  {
   "cell_type": "code",
   "execution_count": 24,
   "metadata": {},
   "outputs": [
    {
     "name": "stderr",
     "output_type": "stream",
     "text": [
      "Truncation was not explicitly activated but `max_length` is provided a specific value, please use `truncation=True` to explicitly truncate examples to max length. Defaulting to 'longest_first' truncation strategy. If you encode pairs of sequences (GLUE-style) with the tokenizer you can select this strategy more precisely by providing a specific strategy to `truncation`.\n",
      "Setting `pad_token_id` to `eos_token_id`:50256 for open-end generation.\n"
     ]
    },
    {
     "data": {
      "text/plain": [
       "[{'generated_text': \"Name of some famous world music artists are: Nils Hammett, JB Oh, Jack White, Jimi Hendrix, Jerry Garcia, Donato Garofalo, Ray Charles, Jimi Hendrix and Bob Weir.\\n\\nWhy are we doing music documentaries on these artists?\\n\\nI think you will understand why with music documentaries about music. As a general rule, people respect someone else being able to explain something to them. So I would like to see people respect people's ability\"}]"
      ]
     },
     "execution_count": 24,
     "metadata": {},
     "output_type": "execute_result"
    }
   ],
   "source": [
    "from transformers import pipeline\n",
    "generator = pipeline('text-generation', model='D:\\my_python\\safeedit\\EasyEdit\\safety_results\\dinm_llama2-chat')\n",
    "generator(\"Name of some famous world music artists are\", max_length=100, num_return_sequences=1)"
   ]
  }
 ],
 "metadata": {
  "kernelspec": {
   "display_name": "Python 3",
   "language": "python",
   "name": "python3"
  },
  "language_info": {
   "codemirror_mode": {
    "name": "ipython",
    "version": 3
   },
   "file_extension": ".py",
   "mimetype": "text/x-python",
   "name": "python",
   "nbconvert_exporter": "python",
   "pygments_lexer": "ipython3",
   "version": "3.10.11"
  }
 },
 "nbformat": 4,
 "nbformat_minor": 2
}
